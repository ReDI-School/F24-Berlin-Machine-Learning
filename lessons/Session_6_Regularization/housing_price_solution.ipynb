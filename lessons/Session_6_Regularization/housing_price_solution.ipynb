{
 "cells": [
  {
   "cell_type": "code",
   "execution_count": null,
   "metadata": {},
   "outputs": [],
   "source": [
    "import pandas as pd\n",
    "from sklearn.datasets import load_boston\n",
    "import numpy as np\n",
    "\n",
    "# Load the dataset\n",
    "boston = load_boston()\n",
    "\n",
    "# Create a DataFrame\n",
    "df = pd.DataFrame(boston.data, columns=boston.feature_names)\n",
    "df['PRICE'] = boston.target\n",
    "\n",
    "# Display the first few rows\n",
    "df.head()"
   ]
  },
  {
   "cell_type": "code",
   "execution_count": null,
   "metadata": {},
   "outputs": [],
   "source": [
    "# Check for missing values\n",
    "df.isnull().sum()\n",
    "\n",
    "# No missing values found in this dataset.\n"
   ]
  },
  {
   "cell_type": "code",
   "execution_count": null,
   "metadata": {},
   "outputs": [],
   "source": [
    "# Describe the dataset\n",
    "df.describe()\n",
    "\n",
    "# Observations: The 'PRICE' column has values ranging from 5 to 50. \n",
    "# The 'CRIM' feature has a max value of 88, indicating some outliers."
   ]
  },
  {
   "cell_type": "code",
   "execution_count": null,
   "metadata": {},
   "outputs": [],
   "source": [
    "import matplotlib.pyplot as plt\n",
    "import seaborn as sns\n",
    "\n",
    "# Create a histogram of house prices\n",
    "plt.figure(figsize=(8, 6))\n",
    "sns.histplot(df['PRICE'], kde=True)\n",
    "plt.title('Distribution of House Prices')\n",
    "plt.show()\n",
    "\n",
    "# Observation: The distribution is skewed to the right."
   ]
  },
  {
   "cell_type": "code",
   "execution_count": null,
   "metadata": {},
   "outputs": [],
   "source": [
    "# Create  plots\n",
    "plt.figure(figsize=(15, 5))\n",
    "\n",
    "# RM vs Price\n",
    "plt.subplot(1, 3, 1)\n",
    "sns.scatterplot(x=df['RM'], y=df['PRICE'])\n",
    "plt.title('RM vs Price')\n",
    "\n",
    "# LSTAT vs Price\n",
    "plt.subplot(1, 3, 2)\n",
    "sns.scatterplot(x=df['LSTAT'], y=df['PRICE'])\n",
    "plt.title('LSTAT vs Price')\n",
    "\n",
    "# PTRATIO vs Price\n",
    "plt.subplot(1, 3, 3)\n",
    "sns.scatterplot(x=df['PTRATIO'], y=df['PRICE'])\n",
    "plt.title('PTRATIO vs Price')\n",
    "\n",
    "plt.show()\n",
    "\n",
    "# Observation: RM shows a positive correlation with price, while LSTAT shows a negative correlation."
   ]
  },
  {
   "cell_type": "code",
   "execution_count": null,
   "metadata": {},
   "outputs": [],
   "source": [
    "# Correlation matrix\n",
    "corr_matrix = df.corr()\n",
    "\n",
    "# Plot heatmap\n",
    "plt.figure(figsize=(10, 8))\n",
    "sns.heatmap(corr_matrix, annot=True, cmap='coolwarm')\n",
    "plt.title('Correlation Matrix')\n",
    "plt.show()\n",
    "\n",
    "# Observation: RM and LSTAT are highly correlated with PRICE.\n"
   ]
  },
  {
   "cell_type": "code",
   "execution_count": null,
   "metadata": {},
   "outputs": [],
   "source": [
    "from sklearn.model_selection import train_test_split\n",
    "\n",
    "# Split the data into features and target\n",
    "X = df.drop('PRICE', axis=1)\n",
    "y = df['PRICE']\n",
    "\n",
    "# Train-test split (80/20)\n",
    "X_train, X_test, y_train, y_test = train_test_split(X, y, test_size=0.2, random_state=42)\n"
   ]
  },
  {
   "cell_type": "code",
   "execution_count": null,
   "metadata": {},
   "outputs": [],
   "source": [
    "from sklearn.linear_model import LinearRegression\n",
    "from sklearn.metrics import mean_squared_error\n",
    "\n",
    "# Initialize and train the model\n",
    "model = LinearRegression()\n",
    "model.fit(X_train, y_train)\n",
    "\n",
    "# Predictions on the test set\n",
    "y_pred = model.predict(X_test)\n",
    "\n",
    "# Calculate Mean Squared Error (MSE)\n",
    "mse = mean_squared_error(y_test, y_pred)\n",
    "print(\"Mean Squared Error:\", mse)\n",
    "\n",
    "# Observation: The MSE is relatively low, but there might still be room for improvement."
   ]
  }
 ],
 "metadata": {
  "kernelspec": {
   "display_name": "vanilla_env",
   "language": "python",
   "name": "python3"
  },
  "language_info": {
   "name": "python",
   "version": "3.10.14"
  }
 },
 "nbformat": 4,
 "nbformat_minor": 2
}
