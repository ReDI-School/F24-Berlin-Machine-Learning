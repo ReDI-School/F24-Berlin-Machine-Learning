{
 "cells": [
  {
   "cell_type": "code",
   "execution_count": 1,
   "metadata": {},
   "outputs": [
    {
     "name": "stdout",
     "output_type": "stream",
     "text": [
      "Requirement already satisfied: spacy in /Library/Frameworks/Python.framework/Versions/3.12/lib/python3.12/site-packages (3.8.2)\n",
      "Requirement already satisfied: spacy-legacy<3.1.0,>=3.0.11 in /Library/Frameworks/Python.framework/Versions/3.12/lib/python3.12/site-packages (from spacy) (3.0.12)\n",
      "Requirement already satisfied: spacy-loggers<2.0.0,>=1.0.0 in /Library/Frameworks/Python.framework/Versions/3.12/lib/python3.12/site-packages (from spacy) (1.0.5)\n",
      "Requirement already satisfied: murmurhash<1.1.0,>=0.28.0 in /Library/Frameworks/Python.framework/Versions/3.12/lib/python3.12/site-packages (from spacy) (1.0.11)\n",
      "Requirement already satisfied: cymem<2.1.0,>=2.0.2 in /Library/Frameworks/Python.framework/Versions/3.12/lib/python3.12/site-packages (from spacy) (2.0.10)\n",
      "Requirement already satisfied: preshed<3.1.0,>=3.0.2 in /Library/Frameworks/Python.framework/Versions/3.12/lib/python3.12/site-packages (from spacy) (3.0.9)\n",
      "Requirement already satisfied: thinc<8.4.0,>=8.3.0 in /Library/Frameworks/Python.framework/Versions/3.12/lib/python3.12/site-packages (from spacy) (8.3.2)\n",
      "Requirement already satisfied: wasabi<1.2.0,>=0.9.1 in /Library/Frameworks/Python.framework/Versions/3.12/lib/python3.12/site-packages (from spacy) (1.1.3)\n",
      "Requirement already satisfied: srsly<3.0.0,>=2.4.3 in /Library/Frameworks/Python.framework/Versions/3.12/lib/python3.12/site-packages (from spacy) (2.4.8)\n",
      "Requirement already satisfied: catalogue<2.1.0,>=2.0.6 in /Library/Frameworks/Python.framework/Versions/3.12/lib/python3.12/site-packages (from spacy) (2.0.10)\n",
      "Requirement already satisfied: weasel<0.5.0,>=0.1.0 in /Library/Frameworks/Python.framework/Versions/3.12/lib/python3.12/site-packages (from spacy) (0.4.1)\n",
      "Requirement already satisfied: typer<1.0.0,>=0.3.0 in /Library/Frameworks/Python.framework/Versions/3.12/lib/python3.12/site-packages (from spacy) (0.13.1)\n",
      "Requirement already satisfied: tqdm<5.0.0,>=4.38.0 in /Library/Frameworks/Python.framework/Versions/3.12/lib/python3.12/site-packages (from spacy) (4.67.1)\n",
      "Requirement already satisfied: requests<3.0.0,>=2.13.0 in /Library/Frameworks/Python.framework/Versions/3.12/lib/python3.12/site-packages (from spacy) (2.32.3)\n",
      "Requirement already satisfied: pydantic!=1.8,!=1.8.1,<3.0.0,>=1.7.4 in /Library/Frameworks/Python.framework/Versions/3.12/lib/python3.12/site-packages (from spacy) (2.10.1)\n",
      "Requirement already satisfied: jinja2 in /Library/Frameworks/Python.framework/Versions/3.12/lib/python3.12/site-packages (from spacy) (3.1.4)\n",
      "Requirement already satisfied: setuptools in /Library/Frameworks/Python.framework/Versions/3.12/lib/python3.12/site-packages (from spacy) (75.1.0)\n",
      "Requirement already satisfied: packaging>=20.0 in /Users/martawlusek/Library/Python/3.12/lib/python/site-packages (from spacy) (24.0)\n",
      "Requirement already satisfied: langcodes<4.0.0,>=3.2.0 in /Library/Frameworks/Python.framework/Versions/3.12/lib/python3.12/site-packages (from spacy) (3.5.0)\n",
      "Requirement already satisfied: numpy>=1.19.0 in /Library/Frameworks/Python.framework/Versions/3.12/lib/python3.12/site-packages (from spacy) (2.0.2)\n",
      "Requirement already satisfied: language-data>=1.2 in /Library/Frameworks/Python.framework/Versions/3.12/lib/python3.12/site-packages (from langcodes<4.0.0,>=3.2.0->spacy) (1.3.0)\n",
      "Requirement already satisfied: annotated-types>=0.6.0 in /Library/Frameworks/Python.framework/Versions/3.12/lib/python3.12/site-packages (from pydantic!=1.8,!=1.8.1,<3.0.0,>=1.7.4->spacy) (0.7.0)\n",
      "Requirement already satisfied: pydantic-core==2.27.1 in /Library/Frameworks/Python.framework/Versions/3.12/lib/python3.12/site-packages (from pydantic!=1.8,!=1.8.1,<3.0.0,>=1.7.4->spacy) (2.27.1)\n",
      "Requirement already satisfied: typing-extensions>=4.12.2 in /Library/Frameworks/Python.framework/Versions/3.12/lib/python3.12/site-packages (from pydantic!=1.8,!=1.8.1,<3.0.0,>=1.7.4->spacy) (4.12.2)\n",
      "Requirement already satisfied: charset-normalizer<4,>=2 in /Library/Frameworks/Python.framework/Versions/3.12/lib/python3.12/site-packages (from requests<3.0.0,>=2.13.0->spacy) (3.3.2)\n",
      "Requirement already satisfied: idna<4,>=2.5 in /Library/Frameworks/Python.framework/Versions/3.12/lib/python3.12/site-packages (from requests<3.0.0,>=2.13.0->spacy) (3.10)\n",
      "Requirement already satisfied: urllib3<3,>=1.21.1 in /Library/Frameworks/Python.framework/Versions/3.12/lib/python3.12/site-packages (from requests<3.0.0,>=2.13.0->spacy) (2.2.3)\n",
      "Requirement already satisfied: certifi>=2017.4.17 in /Library/Frameworks/Python.framework/Versions/3.12/lib/python3.12/site-packages (from requests<3.0.0,>=2.13.0->spacy) (2024.8.30)\n",
      "Requirement already satisfied: blis<1.1.0,>=1.0.0 in /Library/Frameworks/Python.framework/Versions/3.12/lib/python3.12/site-packages (from thinc<8.4.0,>=8.3.0->spacy) (1.0.1)\n",
      "Requirement already satisfied: confection<1.0.0,>=0.0.1 in /Library/Frameworks/Python.framework/Versions/3.12/lib/python3.12/site-packages (from thinc<8.4.0,>=8.3.0->spacy) (0.1.5)\n",
      "Requirement already satisfied: click>=8.0.0 in /Library/Frameworks/Python.framework/Versions/3.12/lib/python3.12/site-packages (from typer<1.0.0,>=0.3.0->spacy) (8.1.7)\n",
      "Requirement already satisfied: shellingham>=1.3.0 in /Library/Frameworks/Python.framework/Versions/3.12/lib/python3.12/site-packages (from typer<1.0.0,>=0.3.0->spacy) (1.5.4)\n",
      "Requirement already satisfied: rich>=10.11.0 in /Library/Frameworks/Python.framework/Versions/3.12/lib/python3.12/site-packages (from typer<1.0.0,>=0.3.0->spacy) (13.9.4)\n",
      "Requirement already satisfied: cloudpathlib<1.0.0,>=0.7.0 in /Library/Frameworks/Python.framework/Versions/3.12/lib/python3.12/site-packages (from weasel<0.5.0,>=0.1.0->spacy) (0.20.0)\n",
      "Requirement already satisfied: smart-open<8.0.0,>=5.2.1 in /Library/Frameworks/Python.framework/Versions/3.12/lib/python3.12/site-packages (from weasel<0.5.0,>=0.1.0->spacy) (7.0.5)\n",
      "Requirement already satisfied: MarkupSafe>=2.0 in /Library/Frameworks/Python.framework/Versions/3.12/lib/python3.12/site-packages (from jinja2->spacy) (2.1.5)\n",
      "Requirement already satisfied: marisa-trie>=1.1.0 in /Library/Frameworks/Python.framework/Versions/3.12/lib/python3.12/site-packages (from language-data>=1.2->langcodes<4.0.0,>=3.2.0->spacy) (1.2.1)\n",
      "Requirement already satisfied: markdown-it-py>=2.2.0 in /Library/Frameworks/Python.framework/Versions/3.12/lib/python3.12/site-packages (from rich>=10.11.0->typer<1.0.0,>=0.3.0->spacy) (3.0.0)\n",
      "Requirement already satisfied: pygments<3.0.0,>=2.13.0 in /Users/martawlusek/Library/Python/3.12/lib/python/site-packages (from rich>=10.11.0->typer<1.0.0,>=0.3.0->spacy) (2.17.2)\n",
      "Requirement already satisfied: wrapt in /Library/Frameworks/Python.framework/Versions/3.12/lib/python3.12/site-packages (from smart-open<8.0.0,>=5.2.1->weasel<0.5.0,>=0.1.0->spacy) (1.17.0)\n",
      "Requirement already satisfied: mdurl~=0.1 in /Library/Frameworks/Python.framework/Versions/3.12/lib/python3.12/site-packages (from markdown-it-py>=2.2.0->rich>=10.11.0->typer<1.0.0,>=0.3.0->spacy) (0.1.2)\n",
      "\n",
      "\u001b[1m[\u001b[0m\u001b[34;49mnotice\u001b[0m\u001b[1;39;49m]\u001b[0m\u001b[39;49m A new release of pip is available: \u001b[0m\u001b[31;49m24.2\u001b[0m\u001b[39;49m -> \u001b[0m\u001b[32;49m24.3.1\u001b[0m\n",
      "\u001b[1m[\u001b[0m\u001b[34;49mnotice\u001b[0m\u001b[1;39;49m]\u001b[0m\u001b[39;49m To update, run: \u001b[0m\u001b[32;49mpip install --upgrade pip\u001b[0m\n"
     ]
    }
   ],
   "source": [
    "# Install spaCy (if not already installed)\n",
    "!pip install spacy\n"
   ]
  },
  {
   "cell_type": "code",
   "execution_count": 2,
   "metadata": {},
   "outputs": [
    {
     "name": "stdout",
     "output_type": "stream",
     "text": [
      "Requirement already satisfied: pandas in /Library/Frameworks/Python.framework/Versions/3.12/lib/python3.12/site-packages (2.2.2)\n",
      "Requirement already satisfied: scikit-learn in /Library/Frameworks/Python.framework/Versions/3.12/lib/python3.12/site-packages (1.5.2)\n",
      "Requirement already satisfied: numpy>=1.26.0 in /Library/Frameworks/Python.framework/Versions/3.12/lib/python3.12/site-packages (from pandas) (2.0.2)\n",
      "Requirement already satisfied: python-dateutil>=2.8.2 in /Users/martawlusek/Library/Python/3.12/lib/python/site-packages (from pandas) (2.9.0.post0)\n",
      "Requirement already satisfied: pytz>=2020.1 in /Library/Frameworks/Python.framework/Versions/3.12/lib/python3.12/site-packages (from pandas) (2024.2)\n",
      "Requirement already satisfied: tzdata>=2022.7 in /Library/Frameworks/Python.framework/Versions/3.12/lib/python3.12/site-packages (from pandas) (2024.1)\n",
      "Requirement already satisfied: scipy>=1.6.0 in /Library/Frameworks/Python.framework/Versions/3.12/lib/python3.12/site-packages (from scikit-learn) (1.14.1)\n",
      "Requirement already satisfied: joblib>=1.2.0 in /Library/Frameworks/Python.framework/Versions/3.12/lib/python3.12/site-packages (from scikit-learn) (1.4.2)\n",
      "Requirement already satisfied: threadpoolctl>=3.1.0 in /Library/Frameworks/Python.framework/Versions/3.12/lib/python3.12/site-packages (from scikit-learn) (3.5.0)\n",
      "Requirement already satisfied: six>=1.5 in /Users/martawlusek/Library/Python/3.12/lib/python/site-packages (from python-dateutil>=2.8.2->pandas) (1.16.0)\n",
      "\n",
      "\u001b[1m[\u001b[0m\u001b[34;49mnotice\u001b[0m\u001b[1;39;49m]\u001b[0m\u001b[39;49m A new release of pip is available: \u001b[0m\u001b[31;49m24.2\u001b[0m\u001b[39;49m -> \u001b[0m\u001b[32;49m24.3.1\u001b[0m\n",
      "\u001b[1m[\u001b[0m\u001b[34;49mnotice\u001b[0m\u001b[1;39;49m]\u001b[0m\u001b[39;49m To update, run: \u001b[0m\u001b[32;49mpip install --upgrade pip\u001b[0m\n"
     ]
    }
   ],
   "source": [
    "# Install pandas and scikit-learn for data handling and evaluation\n",
    "!pip install pandas scikit-learn"
   ]
  },
  {
   "cell_type": "code",
   "execution_count": 3,
   "metadata": {},
   "outputs": [],
   "source": [
    "# Import libraries\n",
    "import pandas as pd\n",
    "from sklearn.model_selection import train_test_split\n",
    "from sklearn.metrics import classification_report\n",
    "import spacy\n",
    "from spacy.training.example import Example\n",
    "from spacy.pipeline.textcat import Config, single_label_cnn_config, single_label_bow_config, single_label_default_config\n",
    "from spacy.training import Example\n",
    "from spacy.util import minibatch, compounding\n",
    "import random\n",
    "import re"
   ]
  },
  {
   "cell_type": "code",
   "execution_count": 4,
   "metadata": {},
   "outputs": [
    {
     "data": {
      "text/html": [
       "<div>\n",
       "<style scoped>\n",
       "    .dataframe tbody tr th:only-of-type {\n",
       "        vertical-align: middle;\n",
       "    }\n",
       "\n",
       "    .dataframe tbody tr th {\n",
       "        vertical-align: top;\n",
       "    }\n",
       "\n",
       "    .dataframe thead th {\n",
       "        text-align: right;\n",
       "    }\n",
       "</style>\n",
       "<table border=\"1\" class=\"dataframe\">\n",
       "  <thead>\n",
       "    <tr style=\"text-align: right;\">\n",
       "      <th></th>\n",
       "      <th>id</th>\n",
       "      <th>comment_text</th>\n",
       "      <th>toxic</th>\n",
       "      <th>severe_toxic</th>\n",
       "      <th>obscene</th>\n",
       "      <th>threat</th>\n",
       "      <th>insult</th>\n",
       "      <th>identity_hate</th>\n",
       "    </tr>\n",
       "  </thead>\n",
       "  <tbody>\n",
       "    <tr>\n",
       "      <th>0</th>\n",
       "      <td>0000997932d777bf</td>\n",
       "      <td>Explanation\\nWhy the edits made under my usern...</td>\n",
       "      <td>0</td>\n",
       "      <td>0</td>\n",
       "      <td>0</td>\n",
       "      <td>0</td>\n",
       "      <td>0</td>\n",
       "      <td>0</td>\n",
       "    </tr>\n",
       "    <tr>\n",
       "      <th>1</th>\n",
       "      <td>000103f0d9cfb60f</td>\n",
       "      <td>D'aww! He matches this background colour I'm s...</td>\n",
       "      <td>0</td>\n",
       "      <td>0</td>\n",
       "      <td>0</td>\n",
       "      <td>0</td>\n",
       "      <td>0</td>\n",
       "      <td>0</td>\n",
       "    </tr>\n",
       "    <tr>\n",
       "      <th>2</th>\n",
       "      <td>000113f07ec002fd</td>\n",
       "      <td>Hey man, I'm really not trying to edit war. It...</td>\n",
       "      <td>0</td>\n",
       "      <td>0</td>\n",
       "      <td>0</td>\n",
       "      <td>0</td>\n",
       "      <td>0</td>\n",
       "      <td>0</td>\n",
       "    </tr>\n",
       "    <tr>\n",
       "      <th>3</th>\n",
       "      <td>0001b41b1c6bb37e</td>\n",
       "      <td>\"\\nMore\\nI can't make any real suggestions on ...</td>\n",
       "      <td>0</td>\n",
       "      <td>0</td>\n",
       "      <td>0</td>\n",
       "      <td>0</td>\n",
       "      <td>0</td>\n",
       "      <td>0</td>\n",
       "    </tr>\n",
       "    <tr>\n",
       "      <th>4</th>\n",
       "      <td>0001d958c54c6e35</td>\n",
       "      <td>You, sir, are my hero. Any chance you remember...</td>\n",
       "      <td>0</td>\n",
       "      <td>0</td>\n",
       "      <td>0</td>\n",
       "      <td>0</td>\n",
       "      <td>0</td>\n",
       "      <td>0</td>\n",
       "    </tr>\n",
       "  </tbody>\n",
       "</table>\n",
       "</div>"
      ],
      "text/plain": [
       "                 id                                       comment_text  toxic  \\\n",
       "0  0000997932d777bf  Explanation\\nWhy the edits made under my usern...      0   \n",
       "1  000103f0d9cfb60f  D'aww! He matches this background colour I'm s...      0   \n",
       "2  000113f07ec002fd  Hey man, I'm really not trying to edit war. It...      0   \n",
       "3  0001b41b1c6bb37e  \"\\nMore\\nI can't make any real suggestions on ...      0   \n",
       "4  0001d958c54c6e35  You, sir, are my hero. Any chance you remember...      0   \n",
       "\n",
       "   severe_toxic  obscene  threat  insult  identity_hate  \n",
       "0             0        0       0       0              0  \n",
       "1             0        0       0       0              0  \n",
       "2             0        0       0       0              0  \n",
       "3             0        0       0       0              0  \n",
       "4             0        0       0       0              0  "
      ]
     },
     "execution_count": 4,
     "metadata": {},
     "output_type": "execute_result"
    }
   ],
   "source": [
    "# Load train.csv\n",
    "train_data = pd.read_csv(\"train.csv\")\n",
    "\n",
    "# Display the first few rows to understand the structure\n",
    "train_data.head()\n"
   ]
  },
  {
   "cell_type": "code",
   "execution_count": 5,
   "metadata": {},
   "outputs": [
    {
     "name": "stdout",
     "output_type": "stream",
     "text": [
      "<class 'pandas.core.frame.DataFrame'>\n",
      "RangeIndex: 159571 entries, 0 to 159570\n",
      "Data columns (total 8 columns):\n",
      " #   Column         Non-Null Count   Dtype \n",
      "---  ------         --------------   ----- \n",
      " 0   id             159571 non-null  object\n",
      " 1   comment_text   159571 non-null  object\n",
      " 2   toxic          159571 non-null  int64 \n",
      " 3   severe_toxic   159571 non-null  int64 \n",
      " 4   obscene        159571 non-null  int64 \n",
      " 5   threat         159571 non-null  int64 \n",
      " 6   insult         159571 non-null  int64 \n",
      " 7   identity_hate  159571 non-null  int64 \n",
      "dtypes: int64(6), object(2)\n",
      "memory usage: 9.7+ MB\n"
     ]
    },
    {
     "data": {
      "text/html": [
       "<div>\n",
       "<style scoped>\n",
       "    .dataframe tbody tr th:only-of-type {\n",
       "        vertical-align: middle;\n",
       "    }\n",
       "\n",
       "    .dataframe tbody tr th {\n",
       "        vertical-align: top;\n",
       "    }\n",
       "\n",
       "    .dataframe thead th {\n",
       "        text-align: right;\n",
       "    }\n",
       "</style>\n",
       "<table border=\"1\" class=\"dataframe\">\n",
       "  <thead>\n",
       "    <tr style=\"text-align: right;\">\n",
       "      <th></th>\n",
       "      <th>toxic</th>\n",
       "      <th>severe_toxic</th>\n",
       "      <th>obscene</th>\n",
       "      <th>threat</th>\n",
       "      <th>insult</th>\n",
       "      <th>identity_hate</th>\n",
       "    </tr>\n",
       "  </thead>\n",
       "  <tbody>\n",
       "    <tr>\n",
       "      <th>count</th>\n",
       "      <td>159571.000000</td>\n",
       "      <td>159571.000000</td>\n",
       "      <td>159571.000000</td>\n",
       "      <td>159571.000000</td>\n",
       "      <td>159571.000000</td>\n",
       "      <td>159571.000000</td>\n",
       "    </tr>\n",
       "    <tr>\n",
       "      <th>mean</th>\n",
       "      <td>0.095844</td>\n",
       "      <td>0.009996</td>\n",
       "      <td>0.052948</td>\n",
       "      <td>0.002996</td>\n",
       "      <td>0.049364</td>\n",
       "      <td>0.008805</td>\n",
       "    </tr>\n",
       "    <tr>\n",
       "      <th>std</th>\n",
       "      <td>0.294379</td>\n",
       "      <td>0.099477</td>\n",
       "      <td>0.223931</td>\n",
       "      <td>0.054650</td>\n",
       "      <td>0.216627</td>\n",
       "      <td>0.093420</td>\n",
       "    </tr>\n",
       "    <tr>\n",
       "      <th>min</th>\n",
       "      <td>0.000000</td>\n",
       "      <td>0.000000</td>\n",
       "      <td>0.000000</td>\n",
       "      <td>0.000000</td>\n",
       "      <td>0.000000</td>\n",
       "      <td>0.000000</td>\n",
       "    </tr>\n",
       "    <tr>\n",
       "      <th>25%</th>\n",
       "      <td>0.000000</td>\n",
       "      <td>0.000000</td>\n",
       "      <td>0.000000</td>\n",
       "      <td>0.000000</td>\n",
       "      <td>0.000000</td>\n",
       "      <td>0.000000</td>\n",
       "    </tr>\n",
       "    <tr>\n",
       "      <th>50%</th>\n",
       "      <td>0.000000</td>\n",
       "      <td>0.000000</td>\n",
       "      <td>0.000000</td>\n",
       "      <td>0.000000</td>\n",
       "      <td>0.000000</td>\n",
       "      <td>0.000000</td>\n",
       "    </tr>\n",
       "    <tr>\n",
       "      <th>75%</th>\n",
       "      <td>0.000000</td>\n",
       "      <td>0.000000</td>\n",
       "      <td>0.000000</td>\n",
       "      <td>0.000000</td>\n",
       "      <td>0.000000</td>\n",
       "      <td>0.000000</td>\n",
       "    </tr>\n",
       "    <tr>\n",
       "      <th>max</th>\n",
       "      <td>1.000000</td>\n",
       "      <td>1.000000</td>\n",
       "      <td>1.000000</td>\n",
       "      <td>1.000000</td>\n",
       "      <td>1.000000</td>\n",
       "      <td>1.000000</td>\n",
       "    </tr>\n",
       "  </tbody>\n",
       "</table>\n",
       "</div>"
      ],
      "text/plain": [
       "               toxic   severe_toxic        obscene         threat  \\\n",
       "count  159571.000000  159571.000000  159571.000000  159571.000000   \n",
       "mean        0.095844       0.009996       0.052948       0.002996   \n",
       "std         0.294379       0.099477       0.223931       0.054650   \n",
       "min         0.000000       0.000000       0.000000       0.000000   \n",
       "25%         0.000000       0.000000       0.000000       0.000000   \n",
       "50%         0.000000       0.000000       0.000000       0.000000   \n",
       "75%         0.000000       0.000000       0.000000       0.000000   \n",
       "max         1.000000       1.000000       1.000000       1.000000   \n",
       "\n",
       "              insult  identity_hate  \n",
       "count  159571.000000  159571.000000  \n",
       "mean        0.049364       0.008805  \n",
       "std         0.216627       0.093420  \n",
       "min         0.000000       0.000000  \n",
       "25%         0.000000       0.000000  \n",
       "50%         0.000000       0.000000  \n",
       "75%         0.000000       0.000000  \n",
       "max         1.000000       1.000000  "
      ]
     },
     "execution_count": 5,
     "metadata": {},
     "output_type": "execute_result"
    }
   ],
   "source": [
    "# Check for missing values and overall dataset structure\n",
    "train_data.info()\n",
    "train_data.describe()"
   ]
  },
  {
   "cell_type": "code",
   "execution_count": 6,
   "metadata": {},
   "outputs": [
    {
     "name": "stdout",
     "output_type": "stream",
     "text": [
      "Training samples: 127656, Validation samples: 31915\n"
     ]
    }
   ],
   "source": [
    "# Define input (comments) and output (labels)\n",
    "X = train_data['comment_text']\n",
    "y = train_data.drop(columns=['id', 'comment_text'])\n",
    "\n",
    "# Split the data (80% train, 20% validation)\n",
    "X_train, X_val, y_train, y_val = train_test_split(X, y, test_size=0.2, random_state=42)\n",
    "\n",
    "print(f\"Training samples: {len(X_train)}, Validation samples: {len(X_val)}\")"
   ]
  },
  {
   "cell_type": "code",
   "execution_count": 7,
   "metadata": {},
   "outputs": [
    {
     "name": "stdout",
     "output_type": "stream",
     "text": [
      "Sample processed data (spaCy format):\n",
      "[('Grandma Terri Should Burn in Trash \\nGrandma Terri is trash. I hate Grandma Terri. F%%K her to HELL! 71.74.76.40', {'cats': {'toxic': True, 'severe_toxic': False, 'obscene': False, 'threat': False, 'insult': False, 'identity_hate': False}}), (', 9 May 2009 (UTC)\\nIt would be easiest if you were to admit to being a member of the involved Portuguese Lodge, and then there would be no requirement to acknowledge whether you had a previous account (Carlos Botelho did not have a good record) or not and I would then remove the sockpuppet template as irrelevant. WP:COI permits people to edit those articles, such as MSJapan does, but just means you have to be more careful in ensuring that references back your edits and that NPOV is upheld.   20:29', {'cats': {'toxic': False, 'severe_toxic': False, 'obscene': False, 'threat': False, 'insult': False, 'identity_hate': False}}), ('\"\\n\\nThe Objectivity of this Discussion is doubtful (non-existent)\\n\\n(1) As indicated earlier, the section on Marxist leaders’ views is misleading:\\n\\n(a) it lays unwarranted and excessive emphasis on Trotsky, creating the misleading impression that other prominent Marxists (Marx, Engels, Lenin) did not advocate and/or practiced terrorism;\\n\\n(b) it lays unwarranted and excessive emphasis on the theoretical “rejection of individual terrorism”, creating the misleading impression that this is the main (only) Marxist position on terrorism. \\n\\n(2) The discussion is not being properly monitored:\\n\\n(a) no discernible attempt is being made to establish and maintain an acceptable degree of objectivity;\\n\\n(b) important and relevant scholarly works such as the International Encyclopedia of Terrorism are being ignored or illicitly excluded from the discussion;\\n\\n(c) though the only logical way to remedy the blatant imbalance in the above section is to include quotes by/on other leaders who are known to have endorsed and practiced terrorism all attempts to do so have been systematically blocked with impunity by the apologists for Marxist terrorism who have done their best to sabotage and wreck both the article and the discussion.\\n\\n(3) Among the tactics deployed by the apologist wreckers and saboteurs the following may be identified as representative examples:\\n\\n(a) it is claimed that Marx and Engels did not advocate terrorism despite the fact that scholarly works like the International Encyclopedia of Terrorism show that they did, and Marx himself was known as “The Red Terror Doctor”;\\n\\n(b) it is claimed that Marx and Engels were not involved in terrorist activities despite the fact that numerous sources from The Neue Rheinische Zeitung to Isaiah Berlin and Francis Wheen state otherwise;\\n\\n(c) it is claimed that Lenin does not refer to terror in The Proletarian Revolution and the Renegade K. Kautsky and other works/statements despite the fact that Robert Service, IET, and other scholarly and reliable sources state that he does;\\n\\n(d) it is claimed that the Russian word ‘’strakh’’ does not mean “terror” when:\\n\\ni. the Oxford Russian Dictionary says that it does;\\n\\nii. it is evident from the context that this is the case;\\n\\niii. any educated Russian speaker can confirm that strakh may mean “terror” depending on the context;\\n\\n(e) it is claimed that Marxism is “scientific” when in fact:\\n\\ni. Marx was not a scientist;\\n\\nii. Marx’s background was philosophy and law, not science;\\n\\niii. Marxism is not recognized as a science by the academic world;\\n\\niv. virtually every one of Marx’s predictions turned out to be wrong, as became increasingly apparent during his lifetime and incontrovertibly so after his death (R. Pipes, Communism: A Brief History, 2001, p. 15) from which it follows that Marxism does not qualify as a scientific system by any accepted standards;\\n\\nv. the evidence indicates that Marxism is closer to a religious sect than to science proper;\\n\\n(f) apologist literature is being quoted in a fraudulent attempt to whitewash Marxist terrorism, in effect turning the discussion into an advertisement for terrorism;\\n\\n(g) it is claimed that Marxist terrorism is not rooted in the Marxist theory of class struggle even though there are numerous sources showing that it is (please note that it is immaterial whether terrorism had already been justified in terms of a theory of class prior to Marx, the point being that it was advocated/practiced on the basis of Marxist class-struggle theories BY MARXISTS):\\n\\n“Karl Marx felt that terror was a necessary part of a revolutionary strategy” (Peter Galvert, “Theories of Terror in Urban Insurrections”, IET, p. 138);\\n\\n“Revolutionary terrorism has its roots in a political ideology, from the Marxist-Leninist thinking of the Left, to the fascists found on the Right” (Noemi Gal-Or, \"\"Revolutionary Terrorism\"\", IET, p. 203);\\n\\n“… perhaps the most important key to Stalin’s motivation lies in the realm of ideology. The leitmotif of Soviet communist ideology in the 1920s and 1930s was class struggle – the inbuilt antagonism between mutually incompatible economic interest groups” (Geoffrey Robert, Stalins Wars, 2006, pp. 17-18);\\n\\nthis fact is supported not only by reliable academic sources, but by elementary logic: \\n\\n“In 1907 Mehring published in the magazine ‘’Neue Zeit (Vol. XXV 2, p. 164) extracts from a letter by Marx to Weydemeyer dated March 5, 1852. In this letter, among other things, is the following noteworthy observation: … class struggle necessarily leads to the dictatorship of the proletariat …”', {'cats': {'toxic': False, 'severe_toxic': False, 'obscene': False, 'threat': False, 'insult': False, 'identity_hate': False}})]\n"
     ]
    }
   ],
   "source": [
    "# Function to transform the data into spaCy format\n",
    "def prepare_spacy_data(comments, labels):\n",
    "    spacy_data = []\n",
    "    for comment, label in zip(comments, labels.values):\n",
    "        # Create a dictionary of labels with their binary values\n",
    "        cats = {col: bool(value) for col, value in zip(labels.columns, label)}\n",
    "        spacy_data.append((comment, {'cats': cats}))\n",
    "    return spacy_data\n",
    "\n",
    "# Prepare training and validation data\n",
    "train_data_spacy = prepare_spacy_data(X_train, y_train)\n",
    "val_data_spacy = prepare_spacy_data(X_val, y_val)\n",
    "\n",
    "# Print a sample of the processed data\n",
    "print(\"Sample processed data (spaCy format):\")\n",
    "print(train_data_spacy[:3])"
   ]
  },
  {
   "cell_type": "code",
   "execution_count": 8,
   "metadata": {},
   "outputs": [
    {
     "name": "stdout",
     "output_type": "stream",
     "text": [
      "Sample cleaned data (spaCy format):\n",
      "[('grandma terri should burn in trash grandma terri is trash i hate grandma terri fk her to hell 71747640', {'cats': {'toxic': True, 'severe_toxic': False, 'obscene': False, 'threat': False, 'insult': False, 'identity_hate': False}}), (' 9 may 2009 utc it would be easiest if you were to admit to being a member of the involved portuguese lodge and then there would be no requirement to acknowledge whether you had a previous account carlos botelho did not have a good record or not and i would then remove the sockpuppet template as irrelevant wpcoi permits people to edit those articles such as msjapan does but just means you have to be more careful in ensuring that references back your edits and that npov is upheld 2029', {'cats': {'toxic': False, 'severe_toxic': False, 'obscene': False, 'threat': False, 'insult': False, 'identity_hate': False}}), (' the objectivity of this discussion is doubtful nonexistent 1 as indicated earlier the section on marxist leaders views is misleading a it lays unwarranted and excessive emphasis on trotsky creating the misleading impression that other prominent marxists marx engels lenin did not advocate andor practiced terrorism b it lays unwarranted and excessive emphasis on the theoretical rejection of individual terrorism creating the misleading impression that this is the main only marxist position on terrorism 2 the discussion is not being properly monitored a no discernible attempt is being made to establish and maintain an acceptable degree of objectivity b important and relevant scholarly works such as the international encyclopedia of terrorism are being ignored or illicitly excluded from the discussion c though the only logical way to remedy the blatant imbalance in the above section is to include quotes byon other leaders who are known to have endorsed and practiced terrorism all attempts to do so have been systematically blocked with impunity by the apologists for marxist terrorism who have done their best to sabotage and wreck both the article and the discussion 3 among the tactics deployed by the apologist wreckers and saboteurs the following may be identified as representative examples a it is claimed that marx and engels did not advocate terrorism despite the fact that scholarly works like the international encyclopedia of terrorism show that they did and marx himself was known as the red terror doctor b it is claimed that marx and engels were not involved in terrorist activities despite the fact that numerous sources from the neue rheinische zeitung to isaiah berlin and francis wheen state otherwise c it is claimed that lenin does not refer to terror in the proletarian revolution and the renegade k kautsky and other worksstatements despite the fact that robert service iet and other scholarly and reliable sources state that he does d it is claimed that the russian word strakh does not mean terror when i the oxford russian dictionary says that it does ii it is evident from the context that this is the case iii any educated russian speaker can confirm that strakh may mean terror depending on the context e it is claimed that marxism is scientific when in fact i marx was not a scientist ii marxs background was philosophy and law not science iii marxism is not recognized as a science by the academic world iv virtually every one of marxs predictions turned out to be wrong as became increasingly apparent during his lifetime and incontrovertibly so after his death r pipes communism a brief history 2001 p 15 from which it follows that marxism does not qualify as a scientific system by any accepted standards v the evidence indicates that marxism is closer to a religious sect than to science proper f apologist literature is being quoted in a fraudulent attempt to whitewash marxist terrorism in effect turning the discussion into an advertisement for terrorism g it is claimed that marxist terrorism is not rooted in the marxist theory of class struggle even though there are numerous sources showing that it is please note that it is immaterial whether terrorism had already been justified in terms of a theory of class prior to marx the point being that it was advocatedpracticed on the basis of marxist classstruggle theories by marxists karl marx felt that terror was a necessary part of a revolutionary strategy peter galvert theories of terror in urban insurrections iet p 138 revolutionary terrorism has its roots in a political ideology from the marxistleninist thinking of the left to the fascists found on the right noemi galor revolutionary terrorism iet p 203  perhaps the most important key to stalins motivation lies in the realm of ideology the leitmotif of soviet communist ideology in the 1920s and 1930s was class struggle  the inbuilt antagonism between mutually incompatible economic interest groups geoffrey robert stalins wars 2006 pp 1718 this fact is supported not only by reliable academic sources but by elementary logic in 1907 mehring published in the magazine neue zeit vol xxv 2 p 164 extracts from a letter by marx to weydemeyer dated march 5 1852 in this letter among other things is the following noteworthy observation  class struggle necessarily leads to the dictatorship of the proletariat ', {'cats': {'toxic': False, 'severe_toxic': False, 'obscene': False, 'threat': False, 'insult': False, 'identity_hate': False}})]\n"
     ]
    }
   ],
   "source": [
    "# Function to clean text\n",
    "def preprocess_text(text):\n",
    "    text = text.lower()  # Convert to lowercase\n",
    "    text = re.sub(r\"\\s+\", \" \", text)  # Remove extra whitespaces\n",
    "    text = re.sub(r\"http\\S+\", \"\", text)  # Remove URLs\n",
    "    text = re.sub(r\"[^\\w\\s]\", \"\", text)  # Remove punctuation\n",
    "    return text\n",
    "\n",
    "# Apply preprocessing to training and validation data\n",
    "X_train_cleaned = X_train.apply(preprocess_text)\n",
    "X_val_cleaned = X_val.apply(preprocess_text)\n",
    "\n",
    "# Prepare spaCy data again with cleaned text\n",
    "train_data_spacy = prepare_spacy_data(X_train_cleaned, y_train)\n",
    "val_data_spacy = prepare_spacy_data(X_val_cleaned, y_val)\n",
    "\n",
    "print(\"Sample cleaned data (spaCy format):\")\n",
    "print(train_data_spacy[:3])"
   ]
  },
  {
   "cell_type": "code",
   "execution_count": 9,
   "metadata": {},
   "outputs": [
    {
     "name": "stdout",
     "output_type": "stream",
     "text": [
      "Preprocessed data saved as JSON files.\n"
     ]
    }
   ],
   "source": [
    "# Save processed data to files (optional)\n",
    "import json\n",
    "\n",
    "with open(\"train_data_spacy.json\", \"w\") as f:\n",
    "    json.dump(train_data_spacy, f)\n",
    "\n",
    "with open(\"val_data_spacy.json\", \"w\") as f:\n",
    "    json.dump(val_data_spacy, f)\n",
    "\n",
    "print(\"Preprocessed data saved as JSON files.\")"
   ]
  },
  {
   "cell_type": "code",
   "execution_count": 10,
   "metadata": {},
   "outputs": [
    {
     "name": "stdout",
     "output_type": "stream",
     "text": [
      "Blank spaCy pipeline created.\n"
     ]
    }
   ],
   "source": [
    "# Create a blank spaCy pipeline for English\n",
    "nlp = spacy.blank(\"en\")\n",
    "\n",
    "# Print a confirmation\n",
    "print(\"Blank spaCy pipeline created.\")\n"
   ]
  },
  {
   "cell_type": "code",
   "execution_count": 11,
   "metadata": {},
   "outputs": [],
   "source": [
    "config = {\n",
    "    \"threshold\": 0.5,  # Classification threshold\n",
    "    \"model\": {\n",
    "        \"@architectures\": \"spacy.TextCatEnsemble.v2\",\n",
    "        \"tok2vec\": {\n",
    "            \"@architectures\": \"spacy.Tok2Vec.v2\",\n",
    "            \"embed\": {\n",
    "                \"@architectures\": \"spacy.MultiHashEmbed.v2\",\n",
    "                \"width\": 64,\n",
    "                \"rows\": [2000, 2000, 500, 1000, 500],\n",
    "                \"attrs\": [\"NORM\", \"LOWER\", \"PREFIX\", \"SUFFIX\", \"SHAPE\"],\n",
    "                \"include_static_vectors\": False,\n",
    "            },\n",
    "            \"encode\": {\n",
    "                \"@architectures\": \"spacy.MaxoutWindowEncoder.v2\",\n",
    "                \"width\": 64,\n",
    "                \"window_size\": 1,\n",
    "                \"maxout_pieces\": 3,\n",
    "                \"depth\": 2,\n",
    "            },\n",
    "        },\n",
    "        \"linear_model\": {\n",
    "            \"@architectures\": \"spacy.TextCatBOW.v3\",\n",
    "            \"exclusive_classes\": False,  # Multi-label classification\n",
    "            \"ngram_size\": 1,\n",
    "            \"no_output_layer\": False,\n",
    "            \"length\": 262144,  # Add length explicitly to avoid further errors\n",
    "        },\n",
    "    },\n",
    "}\n",
    "\n",
    "\n",
    "# Add the multi-label text categorizer\n",
    "textcat = nlp.add_pipe(\"textcat_multilabel\", config=config)\n",
    "\n",
    "# Add labels (categories) to the text categorizer\n",
    "for label in y_train.columns:  # Assuming y_train.columns contains category names\n",
    "    textcat.add_label(label)"
   ]
  },
  {
   "cell_type": "code",
   "execution_count": 12,
   "metadata": {},
   "outputs": [
    {
     "name": "stdout",
     "output_type": "stream",
     "text": [
      "Number of training samples: 127656\n"
     ]
    }
   ],
   "source": [
    "# Prepare training data\n",
    "train_data = []\n",
    "for text, labels in zip(X_train, y_train.to_dict(orient=\"records\")):\n",
    "    annotations = {\"cats\": labels}  # 'cats' is the key for label annotations\n",
    "    train_data.append((text, annotations))\n",
    "\n",
    "print(f\"Number of training samples: {len(train_data)}\")"
   ]
  },
  {
   "cell_type": "code",
   "execution_count": 13,
   "metadata": {},
   "outputs": [
    {
     "name": "stdout",
     "output_type": "stream",
     "text": [
      "Number of validation samples: 31915\n"
     ]
    }
   ],
   "source": [
    "# Prepare validation data (optional but recommended)\n",
    "val_data = []\n",
    "for text, labels in zip(X_val, y_val.to_dict(orient=\"records\")):\n",
    "    annotations = {\"cats\": labels}\n",
    "    val_data.append((text, annotations))\n",
    "\n",
    "print(f\"Number of validation samples: {len(val_data)}\")"
   ]
  },
  {
   "cell_type": "code",
   "execution_count": 14,
   "metadata": {},
   "outputs": [],
   "source": [
    "# Initialize optimizer\n",
    "optimizer = nlp.begin_training()\n",
    "\n",
    "# Training parameters\n",
    "n_iter = 10  # Number of iterations"
   ]
  },
  {
   "cell_type": "code",
   "execution_count": 15,
   "metadata": {},
   "outputs": [
    {
     "name": "stdout",
     "output_type": "stream",
     "text": [
      "Epoch 1, Loss: 118.61015412161191\n",
      "Epoch 2, Loss: 71.4638308372073\n",
      "Epoch 3, Loss: 59.26778193732207\n",
      "Epoch 4, Loss: 50.51683013789875\n",
      "Epoch 5, Loss: 44.95875345519357\n",
      "Epoch 6, Loss: 39.18139823137494\n",
      "Epoch 7, Loss: 35.108088972943506\n",
      "Epoch 8, Loss: 31.206004438829154\n",
      "Epoch 9, Loss: 27.91233435633569\n",
      "Epoch 10, Loss: 25.71229672174809\n"
     ]
    }
   ],
   "source": [
    "# Training loop\n",
    "for epoch in range(n_iter):\n",
    "    random.shuffle(train_data)  # Shuffle training data each epoch\n",
    "    losses = {}\n",
    "    \n",
    "    # Create batches of data\n",
    "    batches = minibatch(train_data, size=compounding(4.0, 32.0, 1.001))\n",
    "    \n",
    "    for batch in batches:\n",
    "        examples = []\n",
    "        for text, annotations in batch:\n",
    "            # Create Example objects\n",
    "            doc = nlp.make_doc(text)\n",
    "            example = Example.from_dict(doc, {\"cats\": annotations[\"cats\"]})  # Multi-label format\n",
    "            examples.append(example)\n",
    "        \n",
    "        # Update the model with the batch of Example objects\n",
    "        nlp.update(examples, drop=0.5, losses=losses)\n",
    "    \n",
    "    print(f\"Epoch {epoch + 1}, Loss: {losses['textcat_multilabel']}\")"
   ]
  },
  {
   "cell_type": "code",
   "execution_count": 18,
   "metadata": {},
   "outputs": [
    {
     "name": "stdout",
     "output_type": "stream",
     "text": [
      "               precision    recall  f1-score   support\n",
      "\n",
      "        toxic       0.86      0.66      0.75      3056\n",
      " severe_toxic       0.54      0.24      0.33       321\n",
      "      obscene       0.87      0.71      0.78      1715\n",
      "       threat       0.50      0.20      0.29        74\n",
      "       insult       0.76      0.57      0.65      1614\n",
      "identity_hate       0.69      0.34      0.46       294\n",
      "\n",
      "    micro avg       0.83      0.61      0.70      7074\n",
      "    macro avg       0.70      0.45      0.54      7074\n",
      " weighted avg       0.82      0.61      0.70      7074\n",
      "  samples avg       0.06      0.05      0.05      7074\n",
      "\n"
     ]
    },
    {
     "name": "stderr",
     "output_type": "stream",
     "text": [
      "/Library/Frameworks/Python.framework/Versions/3.12/lib/python3.12/site-packages/sklearn/metrics/_classification.py:1531: UndefinedMetricWarning: Precision is ill-defined and being set to 0.0 in samples with no predicted labels. Use `zero_division` parameter to control this behavior.\n",
      "  _warn_prf(average, modifier, f\"{metric.capitalize()} is\", len(result))\n",
      "/Library/Frameworks/Python.framework/Versions/3.12/lib/python3.12/site-packages/sklearn/metrics/_classification.py:1531: UndefinedMetricWarning: Recall is ill-defined and being set to 0.0 in samples with no true labels. Use `zero_division` parameter to control this behavior.\n",
      "  _warn_prf(average, modifier, f\"{metric.capitalize()} is\", len(result))\n",
      "/Library/Frameworks/Python.framework/Versions/3.12/lib/python3.12/site-packages/sklearn/metrics/_classification.py:1531: UndefinedMetricWarning: F-score is ill-defined and being set to 0.0 in samples with no true nor predicted labels. Use `zero_division` parameter to control this behavior.\n",
      "  _warn_prf(average, modifier, f\"{metric.capitalize()} is\", len(result))\n"
     ]
    }
   ],
   "source": [
    "from sklearn.metrics import classification_report\n",
    "import numpy as np\n",
    "\n",
    "# Collect predictions and true labels\n",
    "true_labels = []\n",
    "pred_labels = []\n",
    "\n",
    "for text, annotations in val_data:  # val_data is a list of (text, annotations)\n",
    "    # Convert the text and annotations into an Example\n",
    "    example = spacy.training.Example.from_dict(nlp.make_doc(text), {\"cats\": annotations[\"cats\"]})\n",
    "    \n",
    "    # Process the text with the model\n",
    "    doc = nlp(example.text)\n",
    "    \n",
    "    # Collect the predictions\n",
    "    pred_labels.append({label: doc.cats[label] for label in doc.cats})\n",
    "    \n",
    "    # Collect the true labels\n",
    "    true_labels.append(annotations[\"cats\"])\n",
    "\n",
    "# Convert predictions to binary based on threshold\n",
    "threshold = 0.5\n",
    "pred_binary = [\n",
    "    {label: int(score >= threshold) for label, score in pred.items()}\n",
    "    for pred in pred_labels\n",
    "]\n",
    "\n",
    "# Extract the keys (categories/labels) in a consistent order\n",
    "categories = list(true_labels[0].keys())\n",
    "\n",
    "# Convert dictionaries to 2D arrays for sklearn\n",
    "true_array = np.array([[label_dict[cat] for cat in categories] for label_dict in true_labels])\n",
    "pred_array = np.array([[label_dict[cat] for cat in categories] for label_dict in pred_binary])\n",
    "\n",
    "# Evaluate using sklearn's classification report\n",
    "print(classification_report(true_array, pred_array, target_names=categories))"
   ]
  }
 ],
 "metadata": {
  "kernelspec": {
   "display_name": "Python 3",
   "language": "python",
   "name": "python3"
  },
  "language_info": {
   "codemirror_mode": {
    "name": "ipython",
    "version": 3
   },
   "file_extension": ".py",
   "mimetype": "text/x-python",
   "name": "python",
   "nbconvert_exporter": "python",
   "pygments_lexer": "ipython3",
   "version": "3.12.3"
  }
 },
 "nbformat": 4,
 "nbformat_minor": 2
}
