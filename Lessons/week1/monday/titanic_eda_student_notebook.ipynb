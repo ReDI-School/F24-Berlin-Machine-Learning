{
 "cells": [
  {
   "cell_type": "markdown",
   "id": "1e4b679a",
   "metadata": {},
   "source": [
    "# Titanic Dataset: Exploratory Data Analysis (EDA)\n",
    "\n",
    "Welcome to the Titanic dataset EDA notebook! In this notebook, you will explore the Titanic dataset, clean the data, and perform some basic visualizations. Follow the instructions in each cell and complete the tasks where needed.\n",
    "\n",
    "Let's get started!"
   ]
  },
  {
   "cell_type": "code",
   "execution_count": null,
   "id": "b49f9bcb",
   "metadata": {},
   "outputs": [],
   "source": [
    "# Task: Import the necessary libraries for data analysis and visualization\n",
    "# Libraries to import: pandas, numpy, matplotlib, seaborn\n",
    "\n",
    "import pandas as pd\n",
    "import numpy as np\n",
    "import matplotlib.pyplot as plt\n",
    "import seaborn as sns\n",
    "\n",
    "# Use %matplotlib inline if you are using Jupyter Notebook for inline plotting"
   ]
  },
  {
   "cell_type": "code",
   "execution_count": null,
   "id": "52bbd01a",
   "metadata": {},
   "outputs": [],
   "source": [
    "# Task: Load the Titanic dataset into a pandas DataFrame\n",
    "# You can use 'titanic.csv' if the dataset is available locally or provide a URL to load it.\n",
    "\n",
    "# Example: df = pd.read_csv('titanic.csv')\n",
    "\n",
    "# Load your dataset here\n",
    "df = pd.read_csv('YOUR_PATH/titanic.csv')\n",
    "\n",
    "# Preview the first few rows of the dataset using df.head()"
   ]
  },
  {
   "cell_type": "code",
   "execution_count": null,
   "id": "addf558d",
   "metadata": {},
   "outputs": [],
   "source": [
    "# Task: Inspect the dataset to understand its structure\n",
    "# Instructions: Use df.info() to check the data types and non-null values for each column.\n",
    "\n",
    "# Add df.describe() to get a summary of the numerical features.\n",
    "\n",
    "# Inspect data"
   ]
  },
  {
   "cell_type": "code",
   "execution_count": null,
   "id": "68666667",
   "metadata": {},
   "outputs": [],
   "source": [
    "# Task: Check for missing data in the dataset\n",
    "# Instructions: Use isnull().sum() to count missing values per column.\n",
    "\n",
    "# Explore how to handle missing values (fillna or dropna).\n",
    "\n",
    "# Example:\n",
    "# df.isnull().sum()\n",
    "\n",
    "# Now handle missing values by either dropping or filling them"
   ]
  },
  {
   "cell_type": "code",
   "execution_count": null,
   "id": "4f887984",
   "metadata": {},
   "outputs": [],
   "source": [
    "# Task: Perform additional data cleaning steps if needed\n",
    "# Instructions: Look for duplicates, adjust data types, and rename columns where necessary.\n",
    "\n",
    "# Remove duplicate rows, if any\n",
    "# df.drop_duplicates(inplace=True)\n",
    "\n",
    "# Check if any columns need renaming or converting to appropriate data types\n",
    "# Example: df['column_name'] = df['column_name'].astype('new_dtype')"
   ]
  },
  {
   "cell_type": "code",
   "execution_count": null,
   "id": "9fb8bd99",
   "metadata": {},
   "outputs": [],
   "source": [
    "# Task: Generate descriptive statistics for the dataset\n",
    "# Instructions: Use df.describe() to get an overview of the numerical columns.\n",
    "# Use value_counts() for categorical columns to see the distribution of values.\n",
    "\n",
    "# Example:\n",
    "# df.describe()\n",
    "\n",
    "# Now calculate statistics for specific columns (e.g., mean, median)\n",
    "# df['Age'].mean(), df['Survived'].value_counts()"
   ]
  },
  {
   "cell_type": "code",
   "execution_count": null,
   "id": "47882bfc",
   "metadata": {},
   "outputs": [],
   "source": [
    "# Task: Create visualizations to explore the data\n",
    "# Instructions: Create a bar chart or a histogram to visualize the distribution of certain features.\n",
    "\n",
    "# Example: Use matplotlib or seaborn to plot the distribution of 'Age' or 'Fare'\n",
    "# sns.histplot(df['Age'].dropna(), bins=30)\n",
    "\n",
    "# Now create a bar chart for categorical data such as 'Pclass' or 'Sex'"
   ]
  },
  {
   "cell_type": "code",
   "execution_count": null,
   "id": "824bc654",
   "metadata": {},
   "outputs": [],
   "source": [
    "# Task: Explore relationships between variables\n",
    "# Instructions: Create a correlation matrix to see how features are related to each other.\n",
    "# Use a heatmap from seaborn to visualize the correlations.\n",
    "\n",
    "# Example: sns.heatmap(df.corr(), annot=True, cmap='coolwarm')"
   ]
  },
  {
   "cell_type": "code",
   "execution_count": null,
   "id": "07811557",
   "metadata": {},
   "outputs": [],
   "source": [
    "# Task: Explore further! \n",
    "# Instructions: Feel free to explore other relationships in the data using scatter plots or other visualizations.\n",
    "\n",
    "# For example, plot 'Fare' vs 'Age' to see if there's any trend:\n",
    "# plt.scatter(df['Fare'], df['Age'])\n",
    "\n",
    "# Try exploring any other interesting relationships in the dataset."
   ]
  },
  {
   "cell_type": "markdown",
   "id": "ee0c29cf",
   "metadata": {},
   "source": [
    "# Task: Summarize your findings\n",
    "Now that you’ve completed the EDA, take a moment to reflect on the key insights you gathered from the Titanic dataset. What interesting patterns did you observe? Are there any obvious outliers or trends?\n",
    "\n",
    "Feel free to add your conclusions here."
   ]
  }
 ],
 "metadata": {},
 "nbformat": 4,
 "nbformat_minor": 5
}
