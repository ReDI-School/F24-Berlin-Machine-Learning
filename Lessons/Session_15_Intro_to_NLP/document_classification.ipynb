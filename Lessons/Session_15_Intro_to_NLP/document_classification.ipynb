{
  "nbformat": 4,
  "nbformat_minor": 0,
  "metadata": {
    "colab": {
      "provenance": []
    },
    "kernelspec": {
      "name": "python3",
      "display_name": "Python 3"
    },
    "language_info": {
      "name": "python"
    }
  },
  "cells": [
    {
      "cell_type": "code",
      "source": [
        "# Text Classification of Amazon, Yelp & IMDB Reviews using TF IDF Matrix\n",
        "\n",
        "# Importing the libraries\n",
        "import pandas as pd, numpy as np\n",
        "\n",
        "# Importing dataset\n",
        "yelp_ds = pd.read_csv('yelp_labelled.txt', sep ='\\t', header = None, names = ['reviews', 'rating'])\n",
        "amazon_ds = pd.read_csv('amazon_cells_labelled.txt', sep ='\\t', header = None, names = ['reviews', 'rating'])\n",
        "imdb_ds = pd.read_csv('imdb_labelled.txt', sep ='\\t', header = None, names = ['reviews', 'rating'])\n",
        "\n",
        "#combine the datasets\n",
        "dataset = pd.concat([yelp_ds, amazon_ds, imdb_ds], ignore_index = True)\n",
        "\n",
        "# Manually setting the rating for 2 reviews with NaN values\n",
        "dataset.fillna(1, inplace = True)"
      ],
      "metadata": {
        "id": "Z0IdL5VTHiAG"
      },
      "execution_count": null,
      "outputs": []
    },
    {
      "cell_type": "code",
      "execution_count": null,
      "metadata": {
        "id": "K9UON10_HTIP"
      },
      "outputs": [],
      "source": [
        "import nltk\n",
        "nltk.download('stopwords')\n",
        "\n",
        "from nltk.corpus import stopwords\n",
        "from nltk.stem import WordNetLemmatizer\n",
        "\n",
        "import re\n",
        "\n",
        "# Defining a Function to clean up the reviews\n",
        "def text_preprocess(ds: pd.Series) -> pd.Series:\n",
        "    \"\"\"\n",
        "    Apply NLP Preprocessing Techniques to the reviews.\n",
        "    \"\"\"\n",
        "\n",
        "\n",
        "dataset['reviews'] = text_preprocess(dataset['reviews'])"
      ]
    },
    {
      "cell_type": "code",
      "source": [
        "# Building a TF IDF matrix out of the corpus of reviews\n",
        "from sklearn.feature_extraction.text import TfidfVectorizer\n",
        "\n",
        "\n",
        "\n",
        "\n",
        "\n",
        "\n",
        "# Splitting into training & test subsets\n",
        "from sklearn.model_selection import train_test_split\n",
        "\n",
        "\n",
        "\n",
        "\n",
        "\n",
        "\n",
        "\n",
        "# Training the classifier & predicting on test data\n",
        "from sklearn.naive_bayes import MultinomialNB\n",
        "\n",
        "\n",
        "\n",
        "\n",
        "\n",
        "\n",
        "# Classification metrics\n",
        "from sklearn.metrics import accuracy_score, classification_report\n",
        "classification_report = classification_report(y_test, y_pred)\n",
        "\n",
        "print('\\n Accuracy: ', accuracy_score(y_test, y_pred))\n",
        "print('\\nClassification Report')\n",
        "print('======================================================')\n",
        "print('\\n', classification_report)"
      ],
      "metadata": {
        "id": "HBQ_ie-UIJdS"
      },
      "execution_count": null,
      "outputs": []
    }
  ]
}