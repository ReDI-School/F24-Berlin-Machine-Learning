{
 "cells": [
  {
   "cell_type": "markdown",
   "id": "2574e0f5-ac97-46eb-b5a2-ad59bc787107",
   "metadata": {},
   "source": [
    "# Session 10 - Data Lab Practice\n",
    "21.10.24\n",
    "\n",
    "This session is divided into three parts:\n",
    "\n",
    "1. Python basics\n",
    "2. Plotting\n",
    "3. Further classification practice\n",
    "\n",
    "\n",
    "\n",
    "---"
   ]
  },
  {
   "cell_type": "markdown",
   "id": "8768a69a-a895-4e09-ba0e-6f082b51b4bd",
   "metadata": {},
   "source": [
    "#### **Task 1.1: List Comprehension - Squares of Numbers**\n",
    "\n",
    "\n",
    "Create a list of the squares of numbers from 1 to 10 using *list comprehension*."
   ]
  },
  {
   "cell_type": "code",
   "execution_count": 3,
   "id": "f9b2eca6-6c6b-477f-b608-74996ce3cc40",
   "metadata": {},
   "outputs": [
    {
     "name": "stdout",
     "output_type": "stream",
     "text": [
      "[1, 4, 9, 16, 25, 36, 49, 64, 81, 100]\n"
     ]
    }
   ],
   "source": [
    "# Code for Task 1.1\n",
    "y = [x**2 for x in range(1,11)]\n",
    "print(y)"
   ]
  },
  {
   "cell_type": "markdown",
   "id": "6fab1470-5a3c-4b99-82b7-ac586acf792a",
   "metadata": {},
   "source": [
    "#### **Task 1.2: Dictionary Comprehension - Character Count**\n",
    "for c in str1:\n",
    "    count[c]=count.setdefault(c, 0)+1\n",
    "Create a dictionary that counts the number of occurrences of each character in a given string using dictionary comprehension."
   ]
  },
  {
   "cell_type": "code",
   "execution_count": 6,
   "id": "b8c08a61-995c-4b88-9c56-8789fe8b2b2a",
   "metadata": {},
   "outputs": [
    {
     "name": "stdout",
     "output_type": "stream",
     "text": [
      "{'a': 5, 'b': 2, 'r': 2, 'c': 1, 'd': 1}\n"
     ]
    }
   ],
   "source": [
    "# Code for Task 1.2\n",
    "count={}\n",
    "input_string = \"abracadabra\"\n",
    "for c in input_string:\n",
    "    count[c]=count.setdefault(c, 0)+1\n",
    "print(count)"
   ]
  },
  {
   "cell_type": "markdown",
   "id": "9175732c-5339-4f78-9772-e30f053cd476",
   "metadata": {},
   "source": [
    "#### **Task 1.3: Filtering a List**\n",
    "\n",
    "Use *list comprehension* to filter out only even numbers from a given list."
   ]
  },
  {
   "cell_type": "code",
   "execution_count": 11,
   "id": "45549e92-2049-4bb8-9f06-204cd87102ba",
   "metadata": {},
   "outputs": [
    {
     "name": "stdout",
     "output_type": "stream",
     "text": [
      "[2, 4, 6, 8, 10]\n"
     ]
    }
   ],
   "source": [
    "# Code for Task 1.3\n",
    "numbers = [1, 2, 3, 4, 5, 6, 7, 8, 9, 10]\n",
    "even_number= []\n",
    "for number in numbers:\n",
    "    if number%2==0:\n",
    "        even_number.append(number)\n",
    "print(even_number)"
   ]
  },
  {
   "cell_type": "markdown",
   "id": "06190566-adb8-48d7-9f52-254db7227e00",
   "metadata": {},
   "source": [
    "#### **Task 1.4: Flattening a List of Lists**\n",
    "\n",
    "Use list comprehension to flatten a 2D list into a 1D list."
   ]
  },
  {
   "cell_type": "code",
   "execution_count": 13,
   "id": "f70a7b98-a5b6-4482-aac3-c91640aa2cc4",
   "metadata": {},
   "outputs": [
    {
     "name": "stdout",
     "output_type": "stream",
     "text": [
      "[1, 2, 3, 4, 5, 6, 7, 8, 9]\n"
     ]
    }
   ],
   "source": [
    "# Code for Task 1.4\n",
    "list_of_lists = [[1, 2, 3], [4, 5], [6, 7, 8, 9]]\n",
    "flattened_list = []\n",
    "for inner_list in list_of_lists:\n",
    "    for number in inner_list:\n",
    "        flattened_list.append(number)\n",
    "\n",
    "print(flattened_list)"
   ]
  },
  {
   "cell_type": "markdown",
   "id": "fedbda6f-a5b9-46f3-90f5-e94a716b87e8",
   "metadata": {},
   "source": [
    "#### **Task 1.5: Conditional Dictionary Comprehension**\n",
    "\n",
    "Create a dictionary from a list of numbers, where the key is the number and the value is the square of the number, but only include numbers that are divisible by 3."
   ]
  },
  {
   "cell_type": "code",
   "execution_count": 16,
   "id": "7465b93f-723f-4251-8f57-8807a50d23ae",
   "metadata": {},
   "outputs": [
    {
     "name": "stdout",
     "output_type": "stream",
     "text": [
      "[1, 2, 3, 4, 5, 6, 7, 8, 9, 10, 11, 12]\n",
      "{3: 9, 6: 36, 9: 81, 12: 144}\n"
     ]
    }
   ],
   "source": [
    "# Code for Task 1.5\n",
    "\n",
    "# example input: [1, 2, 3, 4, 5, 6, 7, 8, 9]  \n",
    "# Example output: {3: 9, 6: 36, 9: 81}\n",
    "numbers = [x for x in range (1,13)]\n",
    "print(numbers)\n",
    "result_dict = {num: num**2 for num in numbers if num%3==0}\n",
    "print(result_dict)"
   ]
  },
  {
   "cell_type": "markdown",
   "id": "9dfe950a-02c2-45d4-aa12-164e227aa8f3",
   "metadata": {},
   "source": [
    "#### **Task 1.6: Set Comprehension - Unique Vowels**\n",
    "\n",
    "Extract unique vowels from a given string using set comprehension."
   ]
  },
  {
   "cell_type": "code",
   "execution_count": 31,
   "id": "803b342d-4830-4058-87b0-2a53489cbb61",
   "metadata": {},
   "outputs": [
    {
     "name": "stdout",
     "output_type": "stream",
     "text": [
      "['e', 'o']\n"
     ]
    }
   ],
   "source": [
    "# Code for Task 1.6\n",
    "\n",
    "# example input: \"hello world, welcome to python\"\n",
    "# example output: {'o', 'e'}\n",
    "input = \"hello world, welcome to python\"\n",
    "vowel = ['a', 'e', 'i', 'o', 'u']\n",
    "vowel_list = []\n",
    "\n",
    "for c in vowel:\n",
    "    if c in input:\n",
    "        vowel_list.append(c)\n",
    "        \n",
    "print(vowel_list)\n",
    "    "
   ]
  },
  {
   "cell_type": "code",
   "execution_count": 21,
   "id": "89bda893",
   "metadata": {},
   "outputs": [
    {
     "name": "stdout",
     "output_type": "stream",
     "text": [
      "{'o', 'e'}\n"
     ]
    }
   ],
   "source": [
    "temp= []\n",
    "for letter in input:\n",
    "   if letter in vowel:\n",
    "        temp.append(letter)\n",
    "\n",
    "result= set(temp)\n",
    "print(result)"
   ]
  },
  {
   "cell_type": "markdown",
   "id": "42da44f0-f9de-4ecd-99b2-64575ecb3b05",
   "metadata": {},
   "source": [
    "#### **Task 1.7: List Comprehension with Nested Loops**\n",
    "\n",
    "Use list comprehension to generate all pairs (i, j) where i is from 1 to 3 and j is from 1 to 2."
   ]
  },
  {
   "cell_type": "code",
   "execution_count": 32,
   "id": "7114cfe9-c47c-4385-8017-8cf717c8159e",
   "metadata": {},
   "outputs": [
    {
     "name": "stdout",
     "output_type": "stream",
     "text": [
      "[(1, 1), (1, 2), (1, 3), (1, 4), (2, 1), (2, 2), (2, 3), (2, 4), (3, 1), (3, 2), (3, 3), (3, 4)]\n"
     ]
    }
   ],
   "source": [
    "# Code for Task 1.7\n",
    "pairs = [(i,j) for i in range(1,4) for j in range(1,5)]\n",
    "print(pairs)"
   ]
  },
  {
   "cell_type": "code",
   "execution_count": 30,
   "id": "9a31c79e",
   "metadata": {},
   "outputs": [
    {
     "name": "stdout",
     "output_type": "stream",
     "text": [
      "[(1, 1), (1, 2), (2, 1), (2, 2), (3, 1), (3, 2)]\n"
     ]
    }
   ],
   "source": [
    "pairs = []\n",
    "for i in range(1,4):\n",
    "    for j in range(1,3):\n",
    "        pairs.append((i,j))\n",
    "        \n",
    "print(pairs)\n",
    "    \n"
   ]
  },
  {
   "cell_type": "markdown",
   "id": "93b984d3-f849-44e2-8104-1c72e2681c7a",
   "metadata": {},
   "source": [
    "#### **Task 1.8: Generating a List of Random Numbers**\n",
    "\n",
    "Generate a list of 5 random numbers between 1 and 100 using list comprehension."
   ]
  },
  {
   "cell_type": "code",
   "execution_count": 36,
   "id": "c3a053f6-a0e2-4ce9-b8c5-1db1a8c5c2e6",
   "metadata": {},
   "outputs": [
    {
     "name": "stdout",
     "output_type": "stream",
     "text": [
      "[20, 40, 55, 40, 73]\n"
     ]
    }
   ],
   "source": [
    "# Code fot Task 1.8\n",
    "import random\n",
    "random_numbers = [random.randint(1,100) for _ in range(5)]\n",
    "print(random_numbers)"
   ]
  },
  {
   "cell_type": "markdown",
   "id": "f18fdc47-1913-440d-a25b-e902c9e2b26a",
   "metadata": {},
   "source": [
    "#### **Task 1.9: Using a List of Dictionaries**\n",
    "\n",
    "You have a list of dictionaries, each containing a student's name and their score. Filter out students who scored above 60 using list comprehension."
   ]
  },
  {
   "cell_type": "code",
   "execution_count": 44,
   "id": "e10afb51-ab82-4ce2-bddd-0bace2ee8459",
   "metadata": {},
   "outputs": [
    {
     "name": "stdout",
     "output_type": "stream",
     "text": [
      "[{'name': 'Alice', 'score': 85}, {'name': 'Charlie', 'score': 75}]\n"
     ]
    }
   ],
   "source": [
    "# Code for Task 1.9\n",
    "\n",
    "students = [{'name': 'Alice', 'score': 85}, {'name': 'Bob', 'score': 40}, {'name': 'Charlie', 'score': 75}, {'name': 'Jane', 'score': 53}]\n",
    "\n",
    "students_above_60 = [student for student in students if student['score'] > 60]\n",
    "\n",
    "# students_above_60 = []\n",
    "# for student in students:\n",
    "#     if student['score'] > 60:\n",
    "#             students_above_60.append(student)\n",
    "        \n",
    "\n",
    "print(students_above_60)"
   ]
  },
  {
   "cell_type": "markdown",
   "id": "eefb337f-d5bd-495b-8441-110e8e9232b2",
   "metadata": {},
   "source": [
    "#### **Task 1.10: Swapping Keys and Values in a Dictionary**\n",
    "\n",
    "Given a dictionary, swap its keys and values using dictionary comprehension."
   ]
  },
  {
   "cell_type": "code",
   "execution_count": 56,
   "id": "2ba45641-8b7c-42ee-ba1f-7d12bdf7f19e",
   "metadata": {},
   "outputs": [
    {
     "name": "stdout",
     "output_type": "stream",
     "text": [
      "{1: 'a', 2: 'b', 3: 'c'}\n"
     ]
    }
   ],
   "source": [
    "# Code for Task 1.10\n",
    "original_dict = {'a': 1, 'b': 2, 'c': 3}\n",
    "res = dict((v,k) for k,v in original_dict.items())\n",
    "reversed_dict = {}\n",
    "for k,v in original_dict.items():\n",
    "    reversed_dict[v] = k\n",
    "print(reversed_dict)"
   ]
  },
  {
   "cell_type": "markdown",
   "id": "9a9513cf-f52c-4c9d-8adc-fe6809bfc1d1",
   "metadata": {},
   "source": [
    "#### **Task 1.11: The zip() Function**\n",
    "\n",
    "Combine two lists element-wise using the zip() function."
   ]
  },
  {
   "cell_type": "code",
   "execution_count": 58,
   "id": "495219ec-3e31-44dd-826a-5bba31b6b22b",
   "metadata": {},
   "outputs": [
    {
     "name": "stdout",
     "output_type": "stream",
     "text": [
      "[('Alice', 85), ('Bob', 40), ('Charlie', 75), ('Jane', 53)]\n"
     ]
    }
   ],
   "source": [
    "# Code for Task 1.11\n",
    "\n",
    "names = ['Alice', 'Bob', 'Charlie', 'Jane']\n",
    "scores = [85, 40, 75, 53]\n",
    "zipped = list(zip(names,scores))\n",
    "print(zipped)"
   ]
  },
  {
   "cell_type": "markdown",
   "id": "917021e3-ec1e-4d53-a8ab-1ed427508830",
   "metadata": {},
   "source": [
    "#### **Task 1.12: The enumerate() Function**\n",
    "\n",
    "Use enumerate() to access the index and value in a list, print both."
   ]
  },
  {
   "cell_type": "code",
   "execution_count": 75,
   "id": "a34ff8d5-29be-49d6-b96c-d498db97ba68",
   "metadata": {},
   "outputs": [],
   "source": [
    "# Code for Task 1.12\n"
   ]
  },
  {
   "cell_type": "markdown",
   "id": "ed097329-8435-4b30-bc0b-5397ca7a7e60",
   "metadata": {},
   "source": [
    "#### **Task 1.13: The sorted() Function with Custom Key**\n",
    "\n",
    "Sort a list of tuples based on the second element using the sorted() function and a custom key."
   ]
  },
  {
   "cell_type": "code",
   "execution_count": 76,
   "id": "02f73682-7867-4317-876d-539d76a18c82",
   "metadata": {},
   "outputs": [],
   "source": [
    "# Code for Task 1.13\n",
    "students = [('Alice', 85), ('Bob', 40), ('Charlie', 75), ('Jane', 53)]"
   ]
  },
  {
   "cell_type": "markdown",
   "id": "87ab2701-8df6-4613-ae00-d81e9d699c6d",
   "metadata": {},
   "source": [
    "#### **Task 1.14: The any() and all() Functions**\n",
    "\n",
    "Use Python's `any()` and `all()` to check conditions across a list. For instance you might check if a list of booleans has any True values (`any` will be `True`) or if a list of numbers contains only zeros (`all` will be `False`)."
   ]
  },
  {
   "cell_type": "code",
   "execution_count": 77,
   "id": "ce44789c-3bc1-4aee-b78f-bc0223ce7257",
   "metadata": {},
   "outputs": [],
   "source": [
    "# Code for Task 1.14\n"
   ]
  },
  {
   "cell_type": "markdown",
   "id": "151536d7-aa29-4d68-8e2f-be9920f62a77",
   "metadata": {},
   "source": [
    "#### **Task 1.15: The map() Function**\n",
    "\n",
    "Apply a function to each item in a list using the `map()` function. For instance you might square all numbers of a list using `map`."
   ]
  },
  {
   "cell_type": "code",
   "execution_count": 78,
   "id": "44a7e8fb-7e8e-4be6-9f10-0c33d5cf61f2",
   "metadata": {},
   "outputs": [],
   "source": [
    "# Code for Task 1.15\n"
   ]
  },
  {
   "cell_type": "markdown",
   "id": "c3c24998-2892-495f-b9e8-dcd753efc464",
   "metadata": {},
   "source": [
    "#### **Task 1.16: The filter() Function**\n",
    "\n",
    "Use the `filter()` function to filter out even numbers from a list."
   ]
  },
  {
   "cell_type": "code",
   "execution_count": 79,
   "id": "85ed1887-b66d-48a0-87ca-f3266849945e",
   "metadata": {},
   "outputs": [],
   "source": [
    "# Code for Task 1.16\n",
    "\n",
    "numbers = [1, 2, 3, 4, 5, 6, 7, 8, 9, 10]"
   ]
  },
  {
   "cell_type": "markdown",
   "id": "f3666d85-f8a6-4e72-8c84-684c5c9aa4c7",
   "metadata": {},
   "source": [
    "#### **Task 1.17: The reduce() Function from functools**\n",
    "\n",
    "Use the `reduce()` function from `functools` to calculate the product of a list of numbers."
   ]
  },
  {
   "cell_type": "code",
   "execution_count": 80,
   "id": "b838e667-a632-4b51-a45a-7302dc02f388",
   "metadata": {},
   "outputs": [],
   "source": [
    "# Code for Task 1.17\n",
    "\n",
    "from functools import reduce"
   ]
  },
  {
   "cell_type": "markdown",
   "id": "38ed4a83-f21b-4728-8b83-64fad8423fae",
   "metadata": {},
   "source": [
    "#### **Task 1.18: The isinstance() Function**\n",
    "\n",
    "Use `isinstance()` to check the types of items in a list and separate them into two lists."
   ]
  },
  {
   "cell_type": "code",
   "execution_count": 81,
   "id": "f0516ae8-f682-490b-b5f4-264d5cafad4d",
   "metadata": {},
   "outputs": [],
   "source": [
    "# Code for Task 1.18\n",
    "\n",
    "items = [1, 'two', 3, 'four', 5]"
   ]
  },
  {
   "cell_type": "markdown",
   "id": "7df0e92f-454e-4e39-8520-5d8e87f8531d",
   "metadata": {},
   "source": [
    "#### **Task 1.19: List Slicing**\n",
    "\n",
    "Practice basic list slicing techniques:\n",
    "1. Get the first 5 elements.  \n",
    "2. Get the last 3 elements.  \n",
    "3. Get every second element.  "
   ]
  },
  {
   "cell_type": "code",
   "execution_count": 82,
   "id": "267eaf50-e8ba-40d8-a774-2d438f5f6058",
   "metadata": {},
   "outputs": [],
   "source": [
    "# Code for Task 1.19\n",
    "numbers = [0, 1, 2, 3, 4, 5, 6, 7, 8, 9]\n"
   ]
  },
  {
   "cell_type": "markdown",
   "id": "3d39d76b-ec25-4f94-9fc4-8fa10f3fef4b",
   "metadata": {},
   "source": [
    "#### **Task 1.20: The join() Method**\n",
    "\n",
    "Use join() to combine a list of strings into a single string."
   ]
  },
  {
   "cell_type": "code",
   "execution_count": 83,
   "id": "c9b72e1c-d4c1-4f6b-be9c-9b5a41ff9971",
   "metadata": {},
   "outputs": [],
   "source": [
    "# Code for Task 1.20\n"
   ]
  },
  {
   "cell_type": "markdown",
   "id": "cbe367a0-ef18-4418-b3d0-f47bce9df102",
   "metadata": {},
   "source": [
    "#### **Task 1.21: List Unpacking with** (*args)\n",
    "\n",
    "Define a function `add(a, b, c)` that adds three numbers. Then, using `*args`, unpack the list of three numbers to pass it to the function as arguments."
   ]
  },
  {
   "cell_type": "code",
   "execution_count": 84,
   "id": "0f5efc52-c5a5-4565-a51a-70730c850ff0",
   "metadata": {},
   "outputs": [],
   "source": [
    "# Code for Task 1.21\n"
   ]
  },
  {
   "cell_type": "markdown",
   "id": "e77bde57-9820-4120-a3b5-4ab41c0efb0d",
   "metadata": {},
   "source": [
    "#### **Task 1.22: Use dir() to discover unfamiliar properties and methods**\n",
    "\n",
    "Use the `dir()` function on an object to discover properties and methods of that class.\n",
    "Apply this to\n",
    "- a numpy array\n",
    "- a pandas DataFrame\n",
    "\n",
    "List 1-3 properties/methods of each class that you were not familiar with. Look them up and note what they do.\n",
    "You can ignore methods that start with '_' or '__'."
   ]
  },
  {
   "cell_type": "code",
   "execution_count": 85,
   "id": "fd9ea5d3-a57f-48c0-9bad-3c6ae75d95d2",
   "metadata": {},
   "outputs": [],
   "source": [
    "# Code for Task 1.22\n"
   ]
  },
  {
   "cell_type": "markdown",
   "id": "f79a7eed-dca5-44e5-86a2-1e27059007a4",
   "metadata": {},
   "source": [
    "---\n",
    "\n",
    "## Part 2: Plotting"
   ]
  },
  {
   "cell_type": "markdown",
   "id": "54733025-fec8-4e53-a55a-4fcb1f1bf82f",
   "metadata": {},
   "source": [
    "#### **Task 2.1: Load and Inspect the Data**\n",
    "\n",
    "Load the dataset and inspect its structure. The dataset we will use is the *penguins* dataset from the `seaborn` library, which contains information about penguins such as species, body measurements, and more.\n",
    "\n",
    "In this task:\n",
    "- Load the dataset and display the first few rows.\n",
    "- Inspect the data types of each column."
   ]
  },
  {
   "cell_type": "code",
   "execution_count": 86,
   "id": "161e1883-feab-4cab-8fbf-5a1d43214841",
   "metadata": {},
   "outputs": [],
   "source": [
    "# Code for Task 2.1\n"
   ]
  },
  {
   "cell_type": "markdown",
   "id": "1e6fee96-3cb1-43ff-8215-c019ceee6194",
   "metadata": {},
   "source": [
    "#### **Task 2.2: Summary Statistics***\n",
    "\n",
    "Compute and display the basic summary statistics for the numerical columns in the dataset. This will give you an idea of the distribution and central tendencies of the data."
   ]
  },
  {
   "cell_type": "code",
   "execution_count": 87,
   "id": "806a260d-88f3-4e01-aac6-6bb75e9ed1a6",
   "metadata": {},
   "outputs": [],
   "source": [
    "# Code for Task 2.2\n"
   ]
  },
  {
   "cell_type": "markdown",
   "id": "b33156ef-80fd-46f6-91cd-932041e39983",
   "metadata": {},
   "source": [
    "#### **Task 2.3: Simple Histogram**\n",
    "\n",
    "Create a histogram to visualize the distribution of the body mass (body_mass_g) of the penguins. Histograms are useful to understand the distribution of a numerical variable."
   ]
  },
  {
   "cell_type": "code",
   "execution_count": 88,
   "id": "6f655e07-89f9-4c61-a21c-ff992fea5c4d",
   "metadata": {},
   "outputs": [],
   "source": [
    "# Code for Task 2.3\n",
    "import matplotlib.pyplot as plt\n"
   ]
  },
  {
   "cell_type": "markdown",
   "id": "444d7206-53c7-436e-a790-438b516a00ae",
   "metadata": {},
   "source": [
    "#### **Task 2.4: Scatter Plot**\n",
    "\n",
    "Create a scatter plot to examine the relationship between flipper length (`flipper_length_mm`) and body mass (`body_mass_g`). This plot helps you visualize potential correlations between these two numerical features."
   ]
  },
  {
   "cell_type": "code",
   "execution_count": 89,
   "id": "d9758a24-c3df-4069-8aa4-67a99c4b9cbc",
   "metadata": {},
   "outputs": [],
   "source": [
    "# Code for Task 2.4\n"
   ]
  },
  {
   "cell_type": "markdown",
   "id": "6e57eb14-fa59-4171-9c89-ed8fae58d9cd",
   "metadata": {},
   "source": [
    "#### **Task 2.5: Box Plot by Species**\n",
    "\n",
    "Create a box plot to visualize the distribution of body mass across different species. Box plots are useful for comparing the spread and identifying potential outliers across categorical groups."
   ]
  },
  {
   "cell_type": "code",
   "execution_count": 90,
   "id": "dc7a6035-73f3-4aaa-9bfa-badd4e8dd544",
   "metadata": {},
   "outputs": [],
   "source": [
    "# Code for Task 2.5\n"
   ]
  },
  {
   "cell_type": "markdown",
   "id": "b4ef0dda-ed1b-48f4-8ee8-b1d87088f019",
   "metadata": {},
   "source": [
    "#### **Task 2.6: Pairplot for Multiple Variables**\n",
    "\n",
    "Use a pairplot to visualize pairwise relationships between several numerical features. Pairplots provide scatter plots between pairs of variables and histograms for each variable on the diagonal."
   ]
  },
  {
   "cell_type": "code",
   "execution_count": 91,
   "id": "83af1cf9-7cf7-4437-a3fe-c2921f7e805a",
   "metadata": {},
   "outputs": [],
   "source": [
    "# Code for Task 2.6\n"
   ]
  },
  {
   "cell_type": "markdown",
   "id": "a175bf35-fe4e-457d-b441-df506ab0ee54",
   "metadata": {},
   "source": [
    "#### **Task 2.7: Heatmap of Correlation Matrix**\n",
    "\n",
    "Create a heatmap to visualize the correlation matrix of the numerical features. This helps in identifying the strength of relationships between different variables."
   ]
  },
  {
   "cell_type": "code",
   "execution_count": 92,
   "id": "86dc1a84-beff-431a-a4ec-a870a8b732c7",
   "metadata": {},
   "outputs": [],
   "source": [
    "# Code for Task 2.7\n"
   ]
  },
  {
   "cell_type": "markdown",
   "id": "1f4370d8-287d-4682-8d5e-24220f15dcd4",
   "metadata": {},
   "source": [
    "#### **Task 2.8: Bar Plot of Species Count**\n",
    "\n",
    "Create a bar plot to show the count of penguins in each species. Bar plots are useful for visualizing the distribution of categorical variables."
   ]
  },
  {
   "cell_type": "code",
   "execution_count": 93,
   "id": "5d404fc7-e55d-4316-9448-c0c7216b73b2",
   "metadata": {},
   "outputs": [],
   "source": [
    "# Code for Task 2.8\n",
    "\n"
   ]
  },
  {
   "cell_type": "markdown",
   "id": "d96c9e14-3e1a-4812-91d7-fea6e5af0660",
   "metadata": {},
   "source": [
    "#### **Task 2.9: KDE Plot for Flipper Length by Species**\n",
    "\n",
    "Create a Kernel Density Estimate (KDE) plot to visualize the distribution of flipper_length_mm for each species. KDE plots are useful for understanding the distribution of a variable and its smooth curve."
   ]
  },
  {
   "cell_type": "code",
   "execution_count": 94,
   "id": "af7ca263-4c74-4339-9ca9-e22f979ca40f",
   "metadata": {},
   "outputs": [],
   "source": [
    "# Code for Task 2.9\n"
   ]
  },
  {
   "cell_type": "markdown",
   "id": "e254e0be-b76a-403c-af82-b2d4c0463f18",
   "metadata": {},
   "source": [
    "#### **Task 2.10: Violin Plot for Bill Length by Sex**\n",
    "\n",
    "Create a violin plot to visualize the distribution of bill_length_mm for each sex. Violin plots combine the features of box plots and KDE plots to show both summary statistics and the density of the data."
   ]
  },
  {
   "cell_type": "code",
   "execution_count": 95,
   "id": "93781ed0-3ccf-40f4-91e0-57de193ea89b",
   "metadata": {},
   "outputs": [],
   "source": [
    "# Code for Task 2.10\n"
   ]
  },
  {
   "cell_type": "markdown",
   "id": "acdaab3d-f85f-46f5-b987-e910f43700a3",
   "metadata": {},
   "source": [
    "#### **Task 2.11: Plot a 2x2 Grid of Histograms Using Subplots**\n",
    "\n",
    "Create a 2x2 grid of histograms using `plt.subplots`. Each histogram should represent the distribution of one of the numerical features (bill_length_mm, bill_depth_mm, flipper_length_mm, body_mass_g), and the species should be differentiated using different colors for each.\n",
    "\n",
    "In this task:\n",
    "\n",
    "- Use plt.subplots() to create a 2x2 grid.\n",
    "- Loop through the numerical columns and create a histogram for each, differentiated by species.\n",
    "- Label each subplot appropriately and add a legend."
   ]
  },
  {
   "cell_type": "code",
   "execution_count": 96,
   "id": "3706bcbd-8f6a-48c3-9c4d-824db6bff87c",
   "metadata": {},
   "outputs": [],
   "source": [
    "# Code for Task 2.11\n"
   ]
  },
  {
   "cell_type": "markdown",
   "id": "7ae4a003-08e1-46f9-abfa-5ba7d50163ef",
   "metadata": {},
   "source": [
    "---\n",
    "\n",
    "## Part 3: Further classification practice\n",
    "\n",
    "Remember our binary classification problem from last week. This time we are working with a new version of that dataset.\n",
    "Use the file `airline_passenger_satisfaction2.csv`. While it might seem trivial at first, there are some things you need to be careful about this time.\n",
    "\n",
    "#### **Task 3.1 Repeat analysis and model training with new dataset**\n",
    "- Start off by loading the new dataset and inspecting it. What is different to the first version of the data?\n",
    "- Adjust your existing code to account for these differences.\n",
    "- Training the same model like last time. Do you get similar scores as before?\n"
   ]
  },
  {
   "cell_type": "code",
   "execution_count": 61,
   "id": "b10d7707-a959-4084-8312-47fa31f44312",
   "metadata": {},
   "outputs": [],
   "source": [
    "# have fun!"
   ]
  },
  {
   "cell_type": "markdown",
   "id": "4b4010af-6d1d-4afc-b504-a81e7d298b4d",
   "metadata": {},
   "source": [
    "#### **Task 3.2 Even further practice**\n",
    "If you want further practice do the following: \n",
    "- split the data into train/val/test sets\n",
    "- use cross validation\n",
    "- use GridSearch and train at least two different kinds of models, each with at least two sets of hyperparameters"
   ]
  },
  {
   "cell_type": "code",
   "execution_count": 63,
   "id": "1bb7afc3-5d8d-453e-9a2b-0f56f941808c",
   "metadata": {},
   "outputs": [],
   "source": [
    "# still fun? keep going!"
   ]
  }
 ],
 "metadata": {
  "kernelspec": {
   "display_name": "base",
   "language": "python",
   "name": "python3"
  },
  "language_info": {
   "codemirror_mode": {
    "name": "ipython",
    "version": 3
   },
   "file_extension": ".py",
   "mimetype": "text/x-python",
   "name": "python",
   "nbconvert_exporter": "python",
   "pygments_lexer": "ipython3",
   "version": "3.11.5"
  }
 },
 "nbformat": 4,
 "nbformat_minor": 5
}
