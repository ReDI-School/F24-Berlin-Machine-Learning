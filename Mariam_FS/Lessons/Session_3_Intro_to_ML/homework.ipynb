{
 "cells": [
  {
   "cell_type": "markdown",
   "metadata": {},
   "source": [
    "# Task\n",
    "1. Select a dataset of your choice from Kaggle, or you can use one of the following:\n",
    "\n",
    "    from sklearn.datasets import load_breast_cancer\n",
    "    data = load_breast_cancer()\n",
    "\n",
    "    import seaborn as sns\n",
    "    iris_df = sns.load_dataset('iris')\n",
    "\n",
    "2. Follow the 7 steps for building a Machine Learning model to create your first ML project. Remember, programming is 80% about researching and learning—don’t hesitate to Google when needed!\n",
    "\n",
    "3. Once completed, push your project to GitHub and take pride in your work!\n",
    "\n",
    "4. Check if anyone in Slack needs help. If you can assist someone, that's another reason to feel proud of yourself! 😊"
   ]
  },
  {
   "cell_type": "markdown",
   "metadata": {
    "vscode": {
     "languageId": "plaintext"
    }
   },
   "source": [
    "## 7 Steps of building a Machine Learning model\n",
    "1. Understand the Data: Inspect, explore, and understand the features.\n",
    "2. Handle Missing Data: Drop or impute missing values.\n",
    "3. Feature Engineering: Transform, create, or encode new features.\n",
    "4. Handle Outliers: Detect and handle extreme values.\n",
    "5. Split Data: Create training and testing datasets.\n",
    "6. Train the Model: Fit the model to the training data.\n",
    "7. Evaluate the Model: Test the model and evaluate its performance."
   ]
  },
  {
   "cell_type": "markdown",
   "metadata": {},
   "source": [
    "# lets go !!!"
   ]
  },
  {
   "cell_type": "code",
   "execution_count": 1,
   "metadata": {},
   "outputs": [],
   "source": [
    "import pandas as pd\n",
    "import numpy as np\n",
    "import matplotlib.pyplot as plt\n",
    "import seaborn as sns\n",
    "import sklearn as sns"
   ]
  },
  {
   "cell_type": "code",
   "execution_count": null,
   "metadata": {},
   "outputs": [],
   "source": [
    "..."
   ]
  }
 ],
 "metadata": {
  "kernelspec": {
   "display_name": ".venv",
   "language": "python",
   "name": "python3"
  },
  "language_info": {
   "codemirror_mode": {
    "name": "ipython",
    "version": 3
   },
   "file_extension": ".py",
   "mimetype": "text/x-python",
   "name": "python",
   "nbconvert_exporter": "python",
   "pygments_lexer": "ipython3",
   "version": "3.11.10"
  }
 },
 "nbformat": 4,
 "nbformat_minor": 2
}
